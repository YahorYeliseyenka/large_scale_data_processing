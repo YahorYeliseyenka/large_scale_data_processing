{
 "metadata": {
  "language_info": {
   "codemirror_mode": {
    "name": "ipython",
    "version": 3
   },
   "file_extension": ".py",
   "mimetype": "text/x-python",
   "name": "python",
   "nbconvert_exporter": "python",
   "pygments_lexer": "ipython3",
   "version": "3.8.5-final"
  },
  "orig_nbformat": 2,
  "kernelspec": {
   "name": "python3",
   "display_name": "Python 3"
  }
 },
 "nbformat": 4,
 "nbformat_minor": 2,
 "cells": [
  {
   "cell_type": "code",
   "execution_count": 1,
   "metadata": {},
   "outputs": [],
   "source": [
    "from pymagnitude import Magnitude"
   ]
  },
  {
   "cell_type": "code",
   "execution_count": 3,
   "metadata": {},
   "outputs": [
    {
     "output_type": "error",
     "ename": "RuntimeError",
     "evalue": "The path to the Magnitude file at 'embeddings/embedding-18.magnitude' could not be found. Also failed to find a valid remote model at the following URL: http://magnitude.plasticity.ai/embeddings/embedding-18.magnitude",
     "traceback": [
      "\u001b[0;31m---------------------------------------------------------------------------\u001b[0m",
      "\u001b[0;31mHTTPError\u001b[0m                                 Traceback (most recent call last)",
      "\u001b[0;32m~/anaconda3/lib/python3.8/site-packages/pymagnitude/__init__.py\u001b[0m in \u001b[0;36mdownload_model\u001b[0;34m(model, download_dir, remote_path, log, _download, _local)\u001b[0m\n\u001b[1;32m   2157\u001b[0m                          \"This only needs to happen once.\")\n\u001b[0;32m-> 2158\u001b[0;31m                 urlretrieve(\n\u001b[0m\u001b[1;32m   2159\u001b[0m                     \u001b[0mremote_file_path\u001b[0m\u001b[0;34m,\u001b[0m\u001b[0;34m\u001b[0m\u001b[0;34m\u001b[0m\u001b[0m\n",
      "\u001b[0;32m~/anaconda3/lib/python3.8/urllib/request.py\u001b[0m in \u001b[0;36murlretrieve\u001b[0;34m(url, filename, reporthook, data)\u001b[0m\n\u001b[1;32m    246\u001b[0m \u001b[0;34m\u001b[0m\u001b[0m\n\u001b[0;32m--> 247\u001b[0;31m     \u001b[0;32mwith\u001b[0m \u001b[0mcontextlib\u001b[0m\u001b[0;34m.\u001b[0m\u001b[0mclosing\u001b[0m\u001b[0;34m(\u001b[0m\u001b[0murlopen\u001b[0m\u001b[0;34m(\u001b[0m\u001b[0murl\u001b[0m\u001b[0;34m,\u001b[0m \u001b[0mdata\u001b[0m\u001b[0;34m)\u001b[0m\u001b[0;34m)\u001b[0m \u001b[0;32mas\u001b[0m \u001b[0mfp\u001b[0m\u001b[0;34m:\u001b[0m\u001b[0;34m\u001b[0m\u001b[0;34m\u001b[0m\u001b[0m\n\u001b[0m\u001b[1;32m    248\u001b[0m         \u001b[0mheaders\u001b[0m \u001b[0;34m=\u001b[0m \u001b[0mfp\u001b[0m\u001b[0;34m.\u001b[0m\u001b[0minfo\u001b[0m\u001b[0;34m(\u001b[0m\u001b[0;34m)\u001b[0m\u001b[0;34m\u001b[0m\u001b[0;34m\u001b[0m\u001b[0m\n",
      "\u001b[0;32m~/anaconda3/lib/python3.8/urllib/request.py\u001b[0m in \u001b[0;36murlopen\u001b[0;34m(url, data, timeout, cafile, capath, cadefault, context)\u001b[0m\n\u001b[1;32m    221\u001b[0m         \u001b[0mopener\u001b[0m \u001b[0;34m=\u001b[0m \u001b[0m_opener\u001b[0m\u001b[0;34m\u001b[0m\u001b[0;34m\u001b[0m\u001b[0m\n\u001b[0;32m--> 222\u001b[0;31m     \u001b[0;32mreturn\u001b[0m \u001b[0mopener\u001b[0m\u001b[0;34m.\u001b[0m\u001b[0mopen\u001b[0m\u001b[0;34m(\u001b[0m\u001b[0murl\u001b[0m\u001b[0;34m,\u001b[0m \u001b[0mdata\u001b[0m\u001b[0;34m,\u001b[0m \u001b[0mtimeout\u001b[0m\u001b[0;34m)\u001b[0m\u001b[0;34m\u001b[0m\u001b[0;34m\u001b[0m\u001b[0m\n\u001b[0m\u001b[1;32m    223\u001b[0m \u001b[0;34m\u001b[0m\u001b[0m\n",
      "\u001b[0;32m~/anaconda3/lib/python3.8/urllib/request.py\u001b[0m in \u001b[0;36mopen\u001b[0;34m(self, fullurl, data, timeout)\u001b[0m\n\u001b[1;32m    530\u001b[0m             \u001b[0mmeth\u001b[0m \u001b[0;34m=\u001b[0m \u001b[0mgetattr\u001b[0m\u001b[0;34m(\u001b[0m\u001b[0mprocessor\u001b[0m\u001b[0;34m,\u001b[0m \u001b[0mmeth_name\u001b[0m\u001b[0;34m)\u001b[0m\u001b[0;34m\u001b[0m\u001b[0;34m\u001b[0m\u001b[0m\n\u001b[0;32m--> 531\u001b[0;31m             \u001b[0mresponse\u001b[0m \u001b[0;34m=\u001b[0m \u001b[0mmeth\u001b[0m\u001b[0;34m(\u001b[0m\u001b[0mreq\u001b[0m\u001b[0;34m,\u001b[0m \u001b[0mresponse\u001b[0m\u001b[0;34m)\u001b[0m\u001b[0;34m\u001b[0m\u001b[0;34m\u001b[0m\u001b[0m\n\u001b[0m\u001b[1;32m    532\u001b[0m \u001b[0;34m\u001b[0m\u001b[0m\n",
      "\u001b[0;32m~/anaconda3/lib/python3.8/urllib/request.py\u001b[0m in \u001b[0;36mhttp_response\u001b[0;34m(self, request, response)\u001b[0m\n\u001b[1;32m    639\u001b[0m         \u001b[0;32mif\u001b[0m \u001b[0;32mnot\u001b[0m \u001b[0;34m(\u001b[0m\u001b[0;36m200\u001b[0m \u001b[0;34m<=\u001b[0m \u001b[0mcode\u001b[0m \u001b[0;34m<\u001b[0m \u001b[0;36m300\u001b[0m\u001b[0;34m)\u001b[0m\u001b[0;34m:\u001b[0m\u001b[0;34m\u001b[0m\u001b[0;34m\u001b[0m\u001b[0m\n\u001b[0;32m--> 640\u001b[0;31m             response = self.parent.error(\n\u001b[0m\u001b[1;32m    641\u001b[0m                 'http', request, response, code, msg, hdrs)\n",
      "\u001b[0;32m~/anaconda3/lib/python3.8/urllib/request.py\u001b[0m in \u001b[0;36merror\u001b[0;34m(self, proto, *args)\u001b[0m\n\u001b[1;32m    568\u001b[0m             \u001b[0margs\u001b[0m \u001b[0;34m=\u001b[0m \u001b[0;34m(\u001b[0m\u001b[0mdict\u001b[0m\u001b[0;34m,\u001b[0m \u001b[0;34m'default'\u001b[0m\u001b[0;34m,\u001b[0m \u001b[0;34m'http_error_default'\u001b[0m\u001b[0;34m)\u001b[0m \u001b[0;34m+\u001b[0m \u001b[0morig_args\u001b[0m\u001b[0;34m\u001b[0m\u001b[0;34m\u001b[0m\u001b[0m\n\u001b[0;32m--> 569\u001b[0;31m             \u001b[0;32mreturn\u001b[0m \u001b[0mself\u001b[0m\u001b[0;34m.\u001b[0m\u001b[0m_call_chain\u001b[0m\u001b[0;34m(\u001b[0m\u001b[0;34m*\u001b[0m\u001b[0margs\u001b[0m\u001b[0;34m)\u001b[0m\u001b[0;34m\u001b[0m\u001b[0;34m\u001b[0m\u001b[0m\n\u001b[0m\u001b[1;32m    570\u001b[0m \u001b[0;34m\u001b[0m\u001b[0m\n",
      "\u001b[0;32m~/anaconda3/lib/python3.8/urllib/request.py\u001b[0m in \u001b[0;36m_call_chain\u001b[0;34m(self, chain, kind, meth_name, *args)\u001b[0m\n\u001b[1;32m    501\u001b[0m             \u001b[0mfunc\u001b[0m \u001b[0;34m=\u001b[0m \u001b[0mgetattr\u001b[0m\u001b[0;34m(\u001b[0m\u001b[0mhandler\u001b[0m\u001b[0;34m,\u001b[0m \u001b[0mmeth_name\u001b[0m\u001b[0;34m)\u001b[0m\u001b[0;34m\u001b[0m\u001b[0;34m\u001b[0m\u001b[0m\n\u001b[0;32m--> 502\u001b[0;31m             \u001b[0mresult\u001b[0m \u001b[0;34m=\u001b[0m \u001b[0mfunc\u001b[0m\u001b[0;34m(\u001b[0m\u001b[0;34m*\u001b[0m\u001b[0margs\u001b[0m\u001b[0;34m)\u001b[0m\u001b[0;34m\u001b[0m\u001b[0;34m\u001b[0m\u001b[0m\n\u001b[0m\u001b[1;32m    503\u001b[0m             \u001b[0;32mif\u001b[0m \u001b[0mresult\u001b[0m \u001b[0;32mis\u001b[0m \u001b[0;32mnot\u001b[0m \u001b[0;32mNone\u001b[0m\u001b[0;34m:\u001b[0m\u001b[0;34m\u001b[0m\u001b[0;34m\u001b[0m\u001b[0m\n",
      "\u001b[0;32m~/anaconda3/lib/python3.8/urllib/request.py\u001b[0m in \u001b[0;36mhttp_error_default\u001b[0;34m(self, req, fp, code, msg, hdrs)\u001b[0m\n\u001b[1;32m    648\u001b[0m     \u001b[0;32mdef\u001b[0m \u001b[0mhttp_error_default\u001b[0m\u001b[0;34m(\u001b[0m\u001b[0mself\u001b[0m\u001b[0;34m,\u001b[0m \u001b[0mreq\u001b[0m\u001b[0;34m,\u001b[0m \u001b[0mfp\u001b[0m\u001b[0;34m,\u001b[0m \u001b[0mcode\u001b[0m\u001b[0;34m,\u001b[0m \u001b[0mmsg\u001b[0m\u001b[0;34m,\u001b[0m \u001b[0mhdrs\u001b[0m\u001b[0;34m)\u001b[0m\u001b[0;34m:\u001b[0m\u001b[0;34m\u001b[0m\u001b[0;34m\u001b[0m\u001b[0m\n\u001b[0;32m--> 649\u001b[0;31m         \u001b[0;32mraise\u001b[0m \u001b[0mHTTPError\u001b[0m\u001b[0;34m(\u001b[0m\u001b[0mreq\u001b[0m\u001b[0;34m.\u001b[0m\u001b[0mfull_url\u001b[0m\u001b[0;34m,\u001b[0m \u001b[0mcode\u001b[0m\u001b[0;34m,\u001b[0m \u001b[0mmsg\u001b[0m\u001b[0;34m,\u001b[0m \u001b[0mhdrs\u001b[0m\u001b[0;34m,\u001b[0m \u001b[0mfp\u001b[0m\u001b[0;34m)\u001b[0m\u001b[0;34m\u001b[0m\u001b[0;34m\u001b[0m\u001b[0m\n\u001b[0m\u001b[1;32m    650\u001b[0m \u001b[0;34m\u001b[0m\u001b[0m\n",
      "\u001b[0;31mHTTPError\u001b[0m: HTTP Error 404: Not Found",
      "\nDuring handling of the above exception, another exception occurred:\n",
      "\u001b[0;31mRuntimeError\u001b[0m                              Traceback (most recent call last)",
      "\u001b[0;32m<ipython-input-3-ed333776af20>\u001b[0m in \u001b[0;36m<module>\u001b[0;34m\u001b[0m\n\u001b[0;32m----> 1\u001b[0;31m \u001b[0mword2vec\u001b[0m \u001b[0;34m=\u001b[0m \u001b[0mMagnitude\u001b[0m\u001b[0;34m(\u001b[0m\u001b[0;34m\"embeddings/embedding-18.magnitude\"\u001b[0m\u001b[0;34m)\u001b[0m\u001b[0;34m\u001b[0m\u001b[0;34m\u001b[0m\u001b[0m\n\u001b[0m",
      "\u001b[0;32m~/anaconda3/lib/python3.8/site-packages/pymagnitude/__init__.py\u001b[0m in \u001b[0;36m__init__\u001b[0;34m(self, path, stream, stream_options, lazy_loading, blocking, normalized, use_numpy, case_insensitive, pad_to_length, truncate_left, pad_left, placeholders, ngram_oov, supress_warnings, batch_size, eager, language, dtype, devices, temp_dir, log, _namespace, _number_of_values)\u001b[0m\n\u001b[1;32m    349\u001b[0m         if not self.stream and not os.path.isfile(\n\u001b[1;32m    350\u001b[0m                 self.path) and not self.memory_db:\n\u001b[0;32m--> 351\u001b[0;31m             self.path = MagnitudeUtils.download_model(\n\u001b[0m\u001b[1;32m    352\u001b[0m                 self.path, log=self.log, _local=True)\n\u001b[1;32m    353\u001b[0m \u001b[0;34m\u001b[0m\u001b[0m\n",
      "\u001b[0;32m~/anaconda3/lib/python3.8/site-packages/pymagnitude/__init__.py\u001b[0m in \u001b[0;36mdownload_model\u001b[0;34m(model, download_dir, remote_path, log, _download, _local)\u001b[0m\n\u001b[1;32m   2175\u001b[0m             \u001b[0;32mexcept\u001b[0m \u001b[0mBaseException\u001b[0m\u001b[0;34m:\u001b[0m\u001b[0;34m\u001b[0m\u001b[0;34m\u001b[0m\u001b[0m\n\u001b[1;32m   2176\u001b[0m                 \u001b[0;32mif\u001b[0m \u001b[0m_local\u001b[0m\u001b[0;34m:\u001b[0m\u001b[0;34m\u001b[0m\u001b[0;34m\u001b[0m\u001b[0m\n\u001b[0;32m-> 2177\u001b[0;31m                     raise RuntimeError(\n\u001b[0m\u001b[1;32m   2178\u001b[0m                         \u001b[0;34m\"The path to the Magnitude file at '\"\u001b[0m \u001b[0;34m+\u001b[0m \u001b[0morig_model\u001b[0m \u001b[0;34m+\u001b[0m \u001b[0;34m\"' could not be found. Also failed to find a valid remote model at the following URL: \"\u001b[0m \u001b[0;34m+\u001b[0m  \u001b[0;31m# noqa\u001b[0m\u001b[0;34m\u001b[0m\u001b[0;34m\u001b[0m\u001b[0m\n\u001b[1;32m   2179\u001b[0m                         remote_file_path)\n",
      "\u001b[0;31mRuntimeError\u001b[0m: The path to the Magnitude file at 'embeddings/embedding-18.magnitude' could not be found. Also failed to find a valid remote model at the following URL: http://magnitude.plasticity.ai/embeddings/embedding-18.magnitude"
     ]
    }
   ],
   "source": [
    "word2vec = Magnitude(\"/path/to/GoogleNews-vectors-negative300.magnitude\")\n"
   ]
  },
  {
   "cell_type": "code",
   "execution_count": null,
   "metadata": {},
   "outputs": [],
   "source": [
    "string = 'This account was made by me as a way to make a positive community for everyone'\n",
    "string.split()"
   ]
  },
  {
   "cell_type": "code",
   "execution_count": 1,
   "metadata": {},
   "outputs": [],
   "source": [
    "import praw\n",
    "import pandas as pd\n",
    "import datetime as dt\n",
    "import json"
   ]
  },
  {
   "cell_type": "code",
   "execution_count": 2,
   "metadata": {},
   "outputs": [],
   "source": [
    "def get_date(created):\n",
    "    return dt.datetime.fromtimestamp(created) - dt.timedelta(hours=8)"
   ]
  },
  {
   "cell_type": "code",
   "execution_count": 3,
   "metadata": {},
   "outputs": [],
   "source": [
    "start = dt.datetime.now()\n",
    "reddit = praw.Reddit(\"bot1\")\n",
    "subreddit = reddit.subreddit('All')\n",
    "top_subreddit = subreddit.new(limit=100)\n",
    "topics_dict = { \"title\":[], \n",
    "                \"subreddit.display_name\":[], \n",
    "                \"id\":[], \"url\":[], \n",
    "                \"upvote_ratio\": [], \n",
    "                \"created\": [], \n",
    "                \"body\":[]}\n",
    "\n",
    "for submission in top_subreddit:\n",
    "    topics_dict[\"title\"].append(submission.title)\n",
    "    topics_dict[\"subreddit.display_name\"].append(submission.subreddit.display_name)\n",
    "    topics_dict[\"id\"].append(submission.id)\n",
    "    topics_dict[\"url\"].append(submission.url)\n",
    "    topics_dict[\"upvote_ratio\"].append(submission.upvote_ratio)\n",
    "    topics_dict[\"created\"].append(get_date(submission.created))\n",
    "    topics_dict[\"body\"].append(submission.selftext)\n",
    "\n",
    "topics_data = pd.DataFrame(topics_dict)\n",
    "finish = dt.datetime.now()"
   ]
  },
  {
   "cell_type": "code",
   "execution_count": 4,
   "metadata": {},
   "outputs": [
    {
     "output_type": "execute_result",
     "data": {
      "text/plain": [
       ", 11, 30, 0, 35, 39),\n",
       "  datetime.datetime(2020, 11, 30, 0, 35, 38),\n",
       "  datetime.datetime(2020, 11, 30, 0, 35, 38),\n",
       "  datetime.datetime(2020, 11, 30, 0, 35, 38),\n",
       "  datetime.datetime(2020, 11, 30, 0, 35, 38),\n",
       "  datetime.datetime(2020, 11, 30, 0, 35, 38),\n",
       "  datetime.datetime(2020, 11, 30, 0, 35, 38),\n",
       "  datetime.datetime(2020, 11, 30, 0, 35, 38),\n",
       "  datetime.datetime(2020, 11, 30, 0, 35, 38),\n",
       "  datetime.datetime(2020, 11, 30, 0, 35, 37),\n",
       "  datetime.datetime(2020, 11, 30, 0, 35, 37),\n",
       "  datetime.datetime(2020, 11, 30, 0, 35, 37),\n",
       "  datetime.datetime(2020, 11, 30, 0, 35, 37),\n",
       "  datetime.datetime(2020, 11, 30, 0, 35, 37),\n",
       "  datetime.datetime(2020, 11, 30, 0, 35, 37),\n",
       "  datetime.datetime(2020, 11, 30, 0, 35, 37),\n",
       "  datetime.datetime(2020, 11, 30, 0, 35, 36),\n",
       "  datetime.datetime(2020, 11, 30, 0, 35, 36),\n",
       "  datetime.datetime(2020, 11, 30, 0, 35, 36),\n",
       "  datetime.datetime(2020, 11, 30, 0, 35, 36),\n",
       "  datetime.datetime(2020, 11, 30, 0, 35, 36),\n",
       "  datetime.datetime(2020, 11, 30, 0, 35, 36),\n",
       "  datetime.datetime(2020, 11, 30, 0, 35, 35),\n",
       "  datetime.datetime(2020, 11, 30, 0, 35, 35),\n",
       "  datetime.datetime(2020, 11, 30, 0, 35, 35),\n",
       "  datetime.datetime(2020, 11, 30, 0, 35, 35),\n",
       "  datetime.datetime(2020, 11, 30, 0, 35, 35),\n",
       "  datetime.datetime(2020, 11, 30, 0, 35, 34),\n",
       "  datetime.datetime(2020, 11, 30, 0, 35, 34),\n",
       "  datetime.datetime(2020, 11, 30, 0, 35, 34),\n",
       "  datetime.datetime(2020, 11, 30, 0, 35, 34),\n",
       "  datetime.datetime(2020, 11, 30, 0, 35, 34),\n",
       "  datetime.datetime(2020, 11, 30, 0, 35, 34),\n",
       "  datetime.datetime(2020, 11, 30, 0, 35, 34),\n",
       "  datetime.datetime(2020, 11, 30, 0, 35, 34),\n",
       "  datetime.datetime(2020, 11, 30, 0, 35, 34),\n",
       "  datetime.datetime(2020, 11, 30, 0, 35, 34),\n",
       "  datetime.datetime(2020, 11, 30, 0, 35, 34),\n",
       "  datetime.datetime(2020, 11, 30, 0, 35, 34),\n",
       "  datetime.datetime(2020, 11, 30, 0, 35, 34),\n",
       "  datetime.datetime(2020, 11, 30, 0, 35, 33),\n",
       "  datetime.datetime(2020, 11, 30, 0, 35, 33),\n",
       "  datetime.datetime(2020, 11, 30, 0, 35, 33),\n",
       "  datetime.datetime(2020, 11, 30, 0, 35, 33),\n",
       "  datetime.datetime(2020, 11, 30, 0, 35, 33),\n",
       "  datetime.datetime(2020, 11, 30, 0, 35, 32),\n",
       "  datetime.datetime(2020, 11, 30, 0, 35, 32),\n",
       "  datetime.datetime(2020, 11, 30, 0, 35, 32),\n",
       "  datetime.datetime(2020, 11, 30, 0, 35, 32),\n",
       "  datetime.datetime(2020, 11, 30, 0, 35, 32),\n",
       "  datetime.datetime(2020, 11, 30, 0, 35, 32),\n",
       "  datetime.datetime(2020, 11, 30, 0, 35, 32),\n",
       "  datetime.datetime(2020, 11, 30, 0, 35, 32),\n",
       "  datetime.datetime(2020, 11, 30, 0, 35, 31),\n",
       "  datetime.datetime(2020, 11, 30, 0, 35, 31),\n",
       "  datetime.datetime(2020, 11, 30, 0, 35, 31),\n",
       "  datetime.datetime(2020, 11, 30, 0, 35, 31),\n",
       "  datetime.datetime(2020, 11, 30, 0, 35, 31),\n",
       "  datetime.datetime(2020, 11, 30, 0, 35, 30),\n",
       "  datetime.datetime(2020, 11, 30, 0, 35, 30),\n",
       "  datetime.datetime(2020, 11, 30, 0, 35, 30),\n",
       "  datetime.datetime(2020, 11, 30, 0, 35, 30),\n",
       "  datetime.datetime(2020, 11, 30, 0, 35, 30),\n",
       "  datetime.datetime(2020, 11, 30, 0, 35, 30),\n",
       "  datetime.datetime(2020, 11, 30, 0, 35, 29),\n",
       "  datetime.datetime(2020, 11, 30, 0, 35, 29),\n",
       "  datetime.datetime(2020, 11, 30, 0, 35, 29),\n",
       "  datetime.datetime(2020, 11, 30, 0, 35, 29),\n",
       "  datetime.datetime(2020, 11, 30, 0, 35, 29),\n",
       "  datetime.datetime(2020, 11, 30, 0, 35, 29),\n",
       "  datetime.datetime(2020, 11, 30, 0, 35, 29),\n",
       "  datetime.datetime(2020, 11, 30, 0, 35, 29),\n",
       "  datetime.datetime(2020, 11, 30, 0, 35, 29),\n",
       "  datetime.datetime(2020, 11, 30, 0, 35, 28),\n",
       "  datetime.datetime(2020, 11, 30, 0, 35, 28),\n",
       "  datetime.datetime(2020, 11, 30, 0, 35, 28),\n",
       "  datetime.datetime(2020, 11, 30, 0, 35, 28),\n",
       "  datetime.datetime(2020, 11, 30, 0, 35, 28),\n",
       "  datetime.datetime(2020, 11, 30, 0, 35, 28),\n",
       "  datetime.datetime(2020, 11, 30, 0, 35, 28),\n",
       "  datetime.datetime(2020, 11, 30, 0, 35, 28),\n",
       "  datetime.datetime(2020, 11, 30, 0, 35, 28),\n",
       "  datetime.datetime(2020, 11, 30, 0, 35, 27),\n",
       "  datetime.datetime(2020, 11, 30, 0, 35, 27),\n",
       "  datetime.datetime(2020, 11, 30, 0, 35, 27),\n",
       "  datetime.datetime(2020, 11, 30, 0, 35, 27),\n",
       "  datetime.datetime(2020, 11, 30, 0, 35, 27),\n",
       "  datetime.datetime(2020, 11, 30, 0, 35, 27),\n",
       "  datetime.datetime(2020, 11, 30, 0, 35, 27),\n",
       "  datetime.datetime(2020, 11, 30, 0, 35, 27)],\n",
       " 'body': ['',\n",
       "  'https://www.fjallraven.com/\\n\\nSome nice packs, jackets and wool overshirts up in hyah',\n",
       "  '',\n",
       "  '',\n",
       "  '',\n",
       "  '',\n",
       "  '',\n",
       "  '',\n",
       "  '',\n",
       "  '',\n",
       "  '',\n",
       "  \" 9955 8729 8526\\n\\nI'm living in a village with just a view stops. I'd apprecheate every gift.\\n\\nI won't send you gifts back!\",\n",
       "  '',\n",
       "  '',\n",
       "  '',\n",
       "  '',\n",
       "  '***Hi! This account was made by me as a way to make a positive community for everyone, I myself am struggling with self-love. So I thought instead of doing this by myself not only can I bring everyone on my journey I can also help people along the way! <3***',\n",
       "  'Just don’t want it to be like “Hey Monk how have you been? Haven’t seen you since we found out your evil twin killed Trudy!” you know?',\n",
       "  '',\n",
       "  '',\n",
       "  '',\n",
       "  '',\n",
       "  '',\n",
       "  \"Evening all\\n\\nI've got a sore on the ball of my foot/right below my toes which appeared Tuesday last week? I've talked to my doctor and been told to keep pressure off it as she suspects could be diabetic foot, I am going for a xray Tuesday to check if anything is going on underneath or not. But im supposed to work tomorrow and I don't know how long xrays take to come back?\\n\\nSo im wondering if I should call in absent/sick tomorrow? I went in yesterday and had been walking on heel with aid of a stick all day but its left my ankle/lower  leg muscles very sore from walking weird all day because of all the pressure being on my heel 🙈 while I can do most of my job fine needing the stick im more worried about longterm issues developing from spending days/maybe weeks depending on xray results walking on my heel/wrong parts of my foot basically?\\n\\nPlease advise! And yes im very bad at deciding/knowing when I should call in sick or not.\",\n",
       "  '',\n",
       "  '',\n",
       "  'I think she’d listen to British rock or heavy metal (i.e Queen, Iron Maiden, the Clash, David Bowie, Black Sabbath, etc.) \\n\\nThere’s Christmas music as well but I feel that goes without saying.',\n",
       "  '',\n",
       "  '',\n",
       "  'I can’t poop without prune juice. Couldn’t poop before but started prune juice and was going normally. Been drinking prune juice for about 2months or less. When I don’t drink I can’t go.',\n",
       "  '',\n",
       "  '',\n",
       "  '',\n",
       "  'No one seems to truly want a relationship and if they do its for their own agenda. unconditional love is almost non existent and its can seem that everybody is hurt or damaged rather emotionally,  spiritually,  or mentally past the point of return. Where does it all end or begin? True love, unconditional love, love always through a life time?',\n",
       "  '',\n",
       "  '',\n",
       "  '',\n",
       "  '',\n",
       "  \"Has anyone bought anything from this ebay seller before? I bought 2 cards from him 4 months ago and haven't received them yet and only got a partial refund through ebay. I just checked his reviews and he has multiple positive reviews but they all say the same thing.\",\n",
       "  '',\n",
       "  '',\n",
       "  '',\n",
       "  '',\n",
       "  '',\n",
       "  '',\n",
       "  '',\n",
       "  'Hi, im having a headache with the third person camera zoom, every time i load up the game the third person zoom resets to its closest setting, wich is annoying af.. so i have to press the C.A.M.P key (im on pc) and then fix it (basically i waste 1 minute trying to get it to the spot where i like). So my question is this and i would be REALLY grateful if anyone could help me :p, so can i touch some settings on the .ini files or something to establish custom zoom parameters? \\n\\nbtw: idk why but for some reason the game will just randomly change the zoom every now and then\\n\\nThanks!',\n",
       "  '',\n",
       "  '',\n",
       "  '',\n",
       "  '',\n",
       "  'I (20 F) have know this person (20 M) for a while now and we have worked together on and off because I leave for school and come home for breaks. This past summer he was always complementing me and told other people that I am “someone he would bring home to his parents.” He also makes comments saying that he’s going to marry me one day. But then actually never does anything about it?? I would love to pursue a relationship with this person but I can’t tell if he’s being serious or just messing around. A girl can’t handle these mixed signals much longer, any advice?',\n",
       "  'Hey, would anyone let me come over to their island for some shopping? It’s late here and my shops are closed, would really appreciate it! I could also help with any weeding, planting flowers or anything like that if needed☺️',\n",
       "  '',\n",
       "  '',\n",
       "  'I’ve switched to onlyfans as my main focus for selling so I will no longer be updating my Dropbox. All new content will be on onlyfans plus all my old content! My Dropbox is still available to all who purchased it previously, I’m not deleting it, so you’ll still have all the goods you know and love 🥰 I appreciate all your support in this time of transition, I’m so excited to start something new and explore more fun stuff with you all! I still haven’t figured out what to do with my Snapchat though, so I’m just gonna continue posting my usual there. If you’re interested in subscribing to my Snapchat: dm me! \\nI love being a slut for you and I’m looking forward to our new adventure 😍 \\n\\nCome see more me 😉 \\n\\nhttps://onlyfans.com/trashbuns',\n",
       "  '',\n",
       "  '',\n",
       "  '',\n",
       "  '',\n",
       "  'We sometimes get calls and perhaps the person on the end has accidentally muted the phone with their face - but often we get robo-calls where there really is just nothing on the other end. Either way, customer called in today. I picked up the phone and said my store greeting - waited - no answer, dead silence. So I hang up. Generally, if someone has this happen, they call back immediately having fixed whatever phone issue theyre having.\\n\\n&#x200B;\\n\\nNot this customer. They call back immediately and snap, \"well I just CALLED and got HUNG UP ON.\" \\n\\nI explained to her briefly and politely what had happened and expected they\\'d just continue with their phone call. Nope - attitude for the *entire phone call.* Turns out we\\'d called them for a custom order, but their voice mail is full so we couldn\\'t leave one. They tell me this and I say, \"Oh good ! that means your custom request order has arrived in store.\" Customer: Well could you TELL ME what it IS? How am I supposed to KNOW?\\n\\nWhich I then did, all the while thinking... did you... not.. make.. the order?\\n\\nSome people get mad when they have to think and its scary but also funny but jesus it isn\\'t even December yet lmao\\n\\nTell me your favorite over the phone moments, and friends, may I wish you ever the bountiful odds of this season',\n",
       "  '',\n",
       "  '',\n",
       "  '',\n",
       "  '',\n",
       "  '',\n",
       "  '',\n",
       "  '3113 8014 0047',\n",
       "  '',\n",
       "  '',\n",
       "  '',\n",
       "  '',\n",
       "  'What do I do if someone scams more or tries to scam me is there a way I can get them banned or something?',\n",
       "  'pm me for more info',\n",
       "  'Wondering if it’s possible to do this.\\n\\nI’ve got a minibrute 2 that I’d like to sequence with the BeatStep Pro. I’d like to play the minibrute 2’s keyboard to write the sequence.\\n\\nIs there a way to sequence the minibrute 2 from the BeatStep Pro using the minibrute 2’s keyboard as its own controller?',\n",
       "  'The \\'suggestion\\' application of [Mind Trick](https://swse.fandom.com/wiki/Mind_Trick) seems surprisingly vague to me:\\n\\n>You make an otherwise unpalatable suggestion seem completely reasonable to the target. You must be able to communicate with the target, and the suggestion can\\'t obviously threaten the target\\'s life. The target won\\'t realize later that what he did is unacceptable.\\n\\nNowhere in that description does it specify a duration, nor any limits for what you can make them do beyond \"can\\'t *obviously* threaten the target\\'s life\".\\n\\nNaturally, the GM has final say on everything, but as a relatively new SWSE GM looking to set some reasonable guidelines:\\n\\n1. Should there be a set duration for how long they obey the suggestion for?\\n2. Should *especially* bad suggestions (Eg, \"Kill a child\") increase the target\\'s Will Defense? If so, by how much?\\n3. Any other suggestions for ways I should (or shouldn\\'t) limit this power?',\n",
       "  '',\n",
       "  '',\n",
       "  '',\n",
       "  '',\n",
       "  \"Hey everyone!\\n\\nId love to play out a roleplay with one of you about either one of my ideas or perhaps one if your own as long as you're okay with being a dom futa.\\n\\nMy first idea: We're roommates in college, we have been for a few months but I didnt know you were packing something else when you moved in. The way I find out could either be a movie night, in the shower, or maybe we're snuggling in bed on a cold night. Im a little hesitant but I get used to it fast.\\n\\nSecond idea: I'm at the hotel with my boyfriend or girlfriend, but something ends up happening to them and their lying in bed unconscious. You have brought him/her here and is pretty sweet to me. You invite me either over to your place, or help comfort me at mine. But you get a bit handsy and touchy with me, and you get more sexual. Pushing up against me, dry humping or even suggesting we take a shower in which you lock the door and take me.\\n\\nAny other idea is welcomed, please let me know if you have one. Im down to play in chat or pms, or anywhere really, just let me know there!\\n \\nI dont have a ref but I wouldn't mind if you came one with one for both me and you, its optional though. \\n\\nKinks: Rough sex, sneaking around, risky, hair pulling, rough spanking, anal, cheating, etc.\",\n",
       "  '',\n",
       "  '',\n",
       "  \"It had been a long and tiring day, and as I shuffled through dusty roads, I turned at the sound of galloping hooves. Under the hazy moonlight, the rider spotted me, and I braced myself as his fangs glinted behind his hungry smile. \\n\\nHe nudged his horse as he gained on me, but tonight wasn't his night as I shot a stake straight through his heart.\\n\\nHe fell off his startled horse, and I drew back in surprise as its whinny displayed a chilling set of sharp teeth.\\n\\nThey were turning animals now.\\n\\nIt reared before it charged, saliva trailing from its flared lips, but it didn't get far as my experienced hands took over, reloading my crossbow and ridding the world of another bloodthirsty abomination.\\n\\nAs their bodies whithered to dust amidst tumbleweeds, I tucked my weapon beneath shawl with a weary sigh and turned to resume my hunt.\",\n",
       "  '',\n",
       "  'Now-- before I get into this I want to make a few things clear. \\n\\nI am 16. \\n\\nMany people referenced in the Twitter thread I posted are indeed minors (Hellspawn, Sans2005, Blue, and Chase) and I\\'ve censored much of the content within those slides save for maybe two of the videos of Mimi2001\\'s conduct on her own Discord server, Crew Hazbin. (Which is listed to be 18+, yet their rules show 16 year olds are allowed in. They also state that you can be **below** this age, but only if they \"know you\"). \\n\\nCrew Hazbin is a Discord server based on Hazbin Hotel roleplays and other things related to that fandom. \\n\\nMimi2001 is 19, and lives in Germany. Her boyfriend zATOMICxMASTERz is ~21-22. He is supposedly in the UK. \\n\\nAll of the users involved own a VRchat account, and a Discord account. Multiple own Twitter accounts. \\n\\nCrew Hazbin has a Twitter account (referenced in the Twitter thread)\\n\\nJayskillet, a person who I have spoken to personally about this issue was 13 when this all happened in June. Mimi2001 has said that he too is also in Germany, but I haven\\'t asked him myself. \\n\\nAs far as some of the hot takes I made in this-- I was a bit scared and didn\\'t really know what I was doing. Eventually through trial and error I was able to correctly form a story based on the images and screenshots or video that I have. Early on you can likely see me say things that are pretty much just speculation or irrelevant details such as me claiming Hellspawn was a pedophile, while not realizing in most states you need to be at 5 years older than the minor for this to even matter. Being completely honest I legitimately believed that anyone who engaged in sexual activity with a even if they\\'re a minor themselves would be considered a pedophile. I already know this isn\\'t the case so please just ignore those claims as they were made back in July when this was being documented originally. I also made the claim that the Federal Data Protection Act forbids anyone to be on social media platforms hosted or made in Germany while under the age of 16-- When it actually forbids anyone under the age of 16 *within Germany* to be on social media platforms. Just an error that I made when skimming through the surface level information I had at the time.\\n\\n----------------------------------------------------------------------------------\\n\\nNow onto the actual meat and potatoes of this debacle. \\n\\nBelow is a Twitter thread leading to multiple instances of her actions with minors along with short references on Hellspawn, Blue, and Sans. \\n\\nhttps://mobile.twitter.com/OccidoP/status/1325955760115900418 \\n\\nIt\\'s currently unfinished, and likely won\\'t be finished until I add a few more screenshots of her activity within the server. I have to balance school ontop of this, and It\\'s been alot. Having no experience in something like this while trying to make a compelling case against them online is difficult. \\n\\nNow-- They have constantly claimed that what I have presented on Twitter and to many of their members in an attempted to recruit spies on their server to monitor their activity, grab message links for Discord staff, and also possibly get reactions when given hypothetical questions that relate to certain situations they have already been in. \\n\\nOne of such hypothetical situations I presented to her myself on one of the videos in the thread was if Blue, someone Hellspawn groomed and used for sexts-- Hurt herself as a result of what he did. Mimi insisted twice on video that she thought those who hurt themselves because of nudes are \"dumb\" and those who commit suicide \"just a weak fuck\". \\n\\nNevermind that Blue is a fucking 14 year old. \\n\\nShe literally allows Hellspawn to continue to manipulate her. To hurt her. To \"get back\" at her. \\n\\n----------------------------------------------------------------------------------\\n\\nNow-- This might be scraping the rules. I don\\'t know where this falls between any of it, but I tried my best to exclude any form of call to action here. I just need advice in creating a compelling argument so hopefully with the revised argument-- I can bring this to some commentary channel on youtube or have someone cover this. \\n\\nI\\'ve spent 4 months in this hell, all I ask is for help and advice',\n",
       "  \"I am DMing on roll20 soon and in previous campaigns, we've used Groovybot. I'd like to know if there is a way to play a song without it popping up in the chat logs. How would I do that?\",\n",
       "  '',\n",
       "  'This year i’ve had diamond jerry west, diamond jason kidd, pink diamond bob cousy, and diamond isiah thomas. Out of all those guys no one has a more wet green light than ja. his shot release is really easy, his dunks are some of the best in the game right now, and i’m constantly getting green light contested layups. Out of those i mentioned only kidd has comparable defense. His off the dribble 3 is always wet when you find space. I just played against PD curry and babied him. Curry would be the only card close imo but his defense ruins the matchup and makes ja better in myteam right now. Any other point guards you guys can vouch for that i haven’t mentioned? Also i just put a diamond shoe on ja that makes his driving dunk a 98, speed with ball a 95, and vertical 97. \\n\\nThis post comes off the heels of me beating a pd curry team with jaylen brown, kd, amare, and sabonis ja is amazing',\n",
       "  '',\n",
       "  'I promise I make funny shit occasionally https://www.youtube.com/channel/UCni6L8AzMs0ZD_hc1yuzgQg',\n",
       "  '',\n",
       "  '',\n",
       "  '',\n",
       "  '',\n",
       "  '',\n",
       "  'Need someone to write my paper for a Cognition psychology college course. It’s 5-6 pages of content, APA style, and needs at least 4 sources used with 2 of them being research articles from peer-reviewed journals. I have access to psychology databases from my university, so I can provide you with the sources to use if need be.',\n",
       "  '',\n",
       "  '',\n",
       "  '']}"
      ]
     },
     "metadata": {},
     "execution_count": 4
    }
   ],
   "source": []
  },
  {
   "cell_type": "code",
   "execution_count": 79,
   "metadata": {},
   "outputs": [
    {
     "output_type": "execute_result",
     "data": {
      "text/plain": [
       "16"
      ]
     },
     "metadata": {},
     "execution_count": 79
    }
   ],
   "source": [
    "topics_data.created[0].hour"
   ]
  },
  {
   "cell_type": "code",
   "execution_count": 73,
   "metadata": {},
   "outputs": [
    {
     "output_type": "execute_result",
     "data": {
      "text/plain": [
       "16"
      ]
     },
     "metadata": {},
     "execution_count": 73
    }
   ],
   "source": [
    "dt.datetime.now().hour"
   ]
  },
  {
   "cell_type": "code",
   "execution_count": 72,
   "metadata": {},
   "outputs": [
    {
     "output_type": "execute_result",
     "data": {
      "text/plain": [
       "                                                title  score      id  \\\n",
       "0   Slim white boy (20m) looking for aggressive mu...      1  jzj8uk   \n",
       "1             A psa about buying from Mona and prongs      1  jzj8uh   \n",
       "2   [Selling] F19 wanna play with me? Im horny tod...      1  jzj8ug   \n",
       "3   tbh, I dont really know why I made this coz I ...      1  jzj8uf   \n",
       "4                                           helllo xx      1  jzj8ue   \n",
       "5                                       Great wording      1  jzj8ud   \n",
       "6   What’s the best Filipino activity to go along ...      1  jzj8uc   \n",
       "7     Alter Reality Games Holiday Sale Just Went Live      1  jzj8ua   \n",
       "8   HOLY SHIT THE BOOK WE ARE READING IN CLASS SOU...      1  jzj8u7   \n",
       "9                          Question solving technique      1  jzj8u6   \n",
       "10     France: Macron and his Islamic Rivals | Jayzoq      1  jzj8u5   \n",
       "11  21 any muscle tops 18 to 25 wanna Trade me? Me...      1  jzj8u3   \n",
       "12        If it’s not 100% accurate it’s 50% accurate      1  jzj8tx   \n",
       "13                                  wait a minute....      1  jzj8ty   \n",
       "14                            To infinity and beyond!      1  jzj8tv   \n",
       "15                                    New modifiers 🤔      1  jzj8tu   \n",
       "16    I drew king t'challa mostly using color pencils      1  jzj8tt   \n",
       "17                 You’re probably too fit to relate.      1  jzj8ts   \n",
       "\n",
       "                                                  url  comms_num  \\\n",
       "0   https://www.reddit.com/r/bbcpersonals/comments...          0   \n",
       "1                 https://i.redd.it/z1fnqy3b90161.jpg          0   \n",
       "2                 https://i.redd.it/ooq7igra90161.jpg          1   \n",
       "3                 https://i.redd.it/c983d26990161.jpg          0   \n",
       "4                 https://i.redd.it/cxx8c61b90161.jpg          0   \n",
       "5                 https://i.redd.it/x45pqgdx3v061.jpg          1   \n",
       "6                 https://i.redd.it/lmoq56ua90161.jpg          0   \n",
       "7   https://www.reddit.com/r/mtgfinance/comments/j...          0   \n",
       "8                 https://i.redd.it/jmpxvk0b90161.jpg          0   \n",
       "9   https://www.reddit.com/r/step1/comments/jzj8u6...          0   \n",
       "10  https://jayzoq.com/france-macron-and-his-islam...          0   \n",
       "11                https://i.redd.it/k2oa6aza90161.jpg          1   \n",
       "12                https://i.redd.it/bgwm3qua90161.jpg          0   \n",
       "13                https://i.redd.it/hevcxw3990161.png          1   \n",
       "14                https://i.redd.it/w3eosesi80161.png          0   \n",
       "15  https://www.reddit.com/r/PistolWhip/comments/j...          0   \n",
       "16                https://i.redd.it/6qges0ja90161.jpg          0   \n",
       "17                https://i.redd.it/97kmupfa90161.jpg          0   \n",
       "\n",
       "               created                                               body  \n",
       "0  2020-11-23 16:07:11  Slim, blond, white boy looking for a Real Man ...  \n",
       "1  2020-11-23 16:07:11                                                     \n",
       "2  2020-11-23 16:07:11                                                     \n",
       "3  2020-11-23 16:07:11                                                     \n",
       "4  2020-11-23 16:07:11                                                     \n",
       "5  2020-11-23 16:07:10                                                     \n",
       "6  2020-11-23 16:07:10                                                     \n",
       "7  2020-11-23 16:07:10  [https://www.alterealitygames.com/catalog/holi...  \n",
       "8  2020-11-23 16:07:10                                                     \n",
       "9  2020-11-23 16:07:10  What's your question solving technique?\\n\\nPer...  \n",
       "10 2020-11-23 16:07:10                                                     \n",
       "11 2020-11-23 16:07:09                                                     \n",
       "12 2020-11-23 16:07:09                                                     \n",
       "13 2020-11-23 16:07:09                                                     \n",
       "14 2020-11-23 16:07:09                                                     \n",
       "15 2020-11-23 16:07:09  I love pistol whip, it’s my go to game everyti...  \n",
       "16 2020-11-23 16:07:09                                                     \n",
       "17 2020-11-23 16:07:09                                                     "
      ],
      "text/html": "<div>\n<style scoped>\n    .dataframe tbody tr th:only-of-type {\n        vertical-align: middle;\n    }\n\n    .dataframe tbody tr th {\n        vertical-align: top;\n    }\n\n    .dataframe thead th {\n        text-align: right;\n    }\n</style>\n<table border=\"1\" class=\"dataframe\">\n  <thead>\n    <tr style=\"text-align: right;\">\n      <th></th>\n      <th>title</th>\n      <th>score</th>\n      <th>id</th>\n      <th>url</th>\n      <th>comms_num</th>\n      <th>created</th>\n      <th>body</th>\n    </tr>\n  </thead>\n  <tbody>\n    <tr>\n      <th>0</th>\n      <td>Slim white boy (20m) looking for aggressive mu...</td>\n      <td>1</td>\n      <td>jzj8uk</td>\n      <td>https://www.reddit.com/r/bbcpersonals/comments...</td>\n      <td>0</td>\n      <td>2020-11-23 16:07:11</td>\n      <td>Slim, blond, white boy looking for a Real Man ...</td>\n    </tr>\n    <tr>\n      <th>1</th>\n      <td>A psa about buying from Mona and prongs</td>\n      <td>1</td>\n      <td>jzj8uh</td>\n      <td>https://i.redd.it/z1fnqy3b90161.jpg</td>\n      <td>0</td>\n      <td>2020-11-23 16:07:11</td>\n      <td></td>\n    </tr>\n    <tr>\n      <th>2</th>\n      <td>[Selling] F19 wanna play with me? Im horny tod...</td>\n      <td>1</td>\n      <td>jzj8ug</td>\n      <td>https://i.redd.it/ooq7igra90161.jpg</td>\n      <td>1</td>\n      <td>2020-11-23 16:07:11</td>\n      <td></td>\n    </tr>\n    <tr>\n      <th>3</th>\n      <td>tbh, I dont really know why I made this coz I ...</td>\n      <td>1</td>\n      <td>jzj8uf</td>\n      <td>https://i.redd.it/c983d26990161.jpg</td>\n      <td>0</td>\n      <td>2020-11-23 16:07:11</td>\n      <td></td>\n    </tr>\n    <tr>\n      <th>4</th>\n      <td>helllo xx</td>\n      <td>1</td>\n      <td>jzj8ue</td>\n      <td>https://i.redd.it/cxx8c61b90161.jpg</td>\n      <td>0</td>\n      <td>2020-11-23 16:07:11</td>\n      <td></td>\n    </tr>\n    <tr>\n      <th>5</th>\n      <td>Great wording</td>\n      <td>1</td>\n      <td>jzj8ud</td>\n      <td>https://i.redd.it/x45pqgdx3v061.jpg</td>\n      <td>1</td>\n      <td>2020-11-23 16:07:10</td>\n      <td></td>\n    </tr>\n    <tr>\n      <th>6</th>\n      <td>What’s the best Filipino activity to go along ...</td>\n      <td>1</td>\n      <td>jzj8uc</td>\n      <td>https://i.redd.it/lmoq56ua90161.jpg</td>\n      <td>0</td>\n      <td>2020-11-23 16:07:10</td>\n      <td></td>\n    </tr>\n    <tr>\n      <th>7</th>\n      <td>Alter Reality Games Holiday Sale Just Went Live</td>\n      <td>1</td>\n      <td>jzj8ua</td>\n      <td>https://www.reddit.com/r/mtgfinance/comments/j...</td>\n      <td>0</td>\n      <td>2020-11-23 16:07:10</td>\n      <td>[https://www.alterealitygames.com/catalog/holi...</td>\n    </tr>\n    <tr>\n      <th>8</th>\n      <td>HOLY SHIT THE BOOK WE ARE READING IN CLASS SOU...</td>\n      <td>1</td>\n      <td>jzj8u7</td>\n      <td>https://i.redd.it/jmpxvk0b90161.jpg</td>\n      <td>0</td>\n      <td>2020-11-23 16:07:10</td>\n      <td></td>\n    </tr>\n    <tr>\n      <th>9</th>\n      <td>Question solving technique</td>\n      <td>1</td>\n      <td>jzj8u6</td>\n      <td>https://www.reddit.com/r/step1/comments/jzj8u6...</td>\n      <td>0</td>\n      <td>2020-11-23 16:07:10</td>\n      <td>What's your question solving technique?\\n\\nPer...</td>\n    </tr>\n    <tr>\n      <th>10</th>\n      <td>France: Macron and his Islamic Rivals | Jayzoq</td>\n      <td>1</td>\n      <td>jzj8u5</td>\n      <td>https://jayzoq.com/france-macron-and-his-islam...</td>\n      <td>0</td>\n      <td>2020-11-23 16:07:10</td>\n      <td></td>\n    </tr>\n    <tr>\n      <th>11</th>\n      <td>21 any muscle tops 18 to 25 wanna Trade me? Me...</td>\n      <td>1</td>\n      <td>jzj8u3</td>\n      <td>https://i.redd.it/k2oa6aza90161.jpg</td>\n      <td>1</td>\n      <td>2020-11-23 16:07:09</td>\n      <td></td>\n    </tr>\n    <tr>\n      <th>12</th>\n      <td>If it’s not 100% accurate it’s 50% accurate</td>\n      <td>1</td>\n      <td>jzj8tx</td>\n      <td>https://i.redd.it/bgwm3qua90161.jpg</td>\n      <td>0</td>\n      <td>2020-11-23 16:07:09</td>\n      <td></td>\n    </tr>\n    <tr>\n      <th>13</th>\n      <td>wait a minute....</td>\n      <td>1</td>\n      <td>jzj8ty</td>\n      <td>https://i.redd.it/hevcxw3990161.png</td>\n      <td>1</td>\n      <td>2020-11-23 16:07:09</td>\n      <td></td>\n    </tr>\n    <tr>\n      <th>14</th>\n      <td>To infinity and beyond!</td>\n      <td>1</td>\n      <td>jzj8tv</td>\n      <td>https://i.redd.it/w3eosesi80161.png</td>\n      <td>0</td>\n      <td>2020-11-23 16:07:09</td>\n      <td></td>\n    </tr>\n    <tr>\n      <th>15</th>\n      <td>New modifiers 🤔</td>\n      <td>1</td>\n      <td>jzj8tu</td>\n      <td>https://www.reddit.com/r/PistolWhip/comments/j...</td>\n      <td>0</td>\n      <td>2020-11-23 16:07:09</td>\n      <td>I love pistol whip, it’s my go to game everyti...</td>\n    </tr>\n    <tr>\n      <th>16</th>\n      <td>I drew king t'challa mostly using color pencils</td>\n      <td>1</td>\n      <td>jzj8tt</td>\n      <td>https://i.redd.it/6qges0ja90161.jpg</td>\n      <td>0</td>\n      <td>2020-11-23 16:07:09</td>\n      <td></td>\n    </tr>\n    <tr>\n      <th>17</th>\n      <td>You’re probably too fit to relate.</td>\n      <td>1</td>\n      <td>jzj8ts</td>\n      <td>https://i.redd.it/97kmupfa90161.jpg</td>\n      <td>0</td>\n      <td>2020-11-23 16:07:09</td>\n      <td></td>\n    </tr>\n  </tbody>\n</table>\n</div>"
     },
     "metadata": {},
     "execution_count": 72
    }
   ],
   "source": [
    "topics_data[topics_data.created >= dt.datetime.now()-dt.timedelta(seconds=120)]"
   ]
  },
  {
   "cell_type": "code",
   "execution_count": 25,
   "metadata": {},
   "outputs": [
    {
     "output_type": "error",
     "ename": "NameError",
     "evalue": "name 'path' is not defined",
     "traceback": [
      "\u001b[0;31m---------------------------------------------------------------------------\u001b[0m",
      "\u001b[0;31mNameError\u001b[0m                                 Traceback (most recent call last)",
      "\u001b[0;32m<ipython-input-25-0d3e3b0e4925>\u001b[0m in \u001b[0;36m<module>\u001b[0;34m\u001b[0m\n\u001b[0;32m----> 1\u001b[0;31m \u001b[0mpath\u001b[0m\u001b[0;34m.\u001b[0m\u001b[0mexists\u001b[0m\u001b[0;34m(\u001b[0m\u001b[0;34m'temp.json'\u001b[0m\u001b[0;34m)\u001b[0m\u001b[0;34m\u001b[0m\u001b[0;34m\u001b[0m\u001b[0m\n\u001b[0m",
      "\u001b[0;31mNameError\u001b[0m: name 'path' is not defined"
     ]
    }
   ],
   "source": [
    "path.exists('temp.json')"
   ]
  },
  {
   "cell_type": "code",
   "execution_count": 225,
   "metadata": {},
   "outputs": [],
   "source": [
    "q, w = (True, 1) if path.exists('scrapper.py') else (False, 2)"
   ]
  },
  {
   "cell_type": "code",
   "execution_count": 226,
   "metadata": {},
   "outputs": [
    {
     "output_type": "execute_result",
     "data": {
      "text/plain": [
       "(True, 1)"
      ]
     },
     "metadata": {},
     "execution_count": 226
    }
   ],
   "source": [
    "q, w"
   ]
  },
  {
   "cell_type": "code",
   "execution_count": null,
   "metadata": {},
   "outputs": [],
   "source": [
    "result = topics_data.to_json(orient=\"split\", )"
   ]
  },
  {
   "cell_type": "code",
   "execution_count": 214,
   "metadata": {},
   "outputs": [],
   "source": [
    "topics_data.to_csv('temp.csv', sep=';', header=True, decimal=',', mode='w', doublequote=True)"
   ]
  },
  {
   "cell_type": "code",
   "execution_count": 215,
   "metadata": {},
   "outputs": [
    {
     "output_type": "execute_result",
     "data": {
      "text/plain": [
       "                                               title   score      id  \\\n",
       "0                        Guardians of the Front Page  283481  5gn8ru   \n",
       "1                                     Thanks, Obama.  230836  5bx4bx   \n",
       "2                       Take your time, you got this  268692  ccr8c8   \n",
       "3  Blizzard Employees Staged a Walkout After the ...  226322  dfn3yi   \n",
       "4  This is Shelia Fredrick, a flight attendant. S...  222815  5sfexx   \n",
       "5                                      DEMOCRACY NOW  223575  cp4sce   \n",
       "6  I got a cease and desist for making the Crocs ...  207260  co6h3d   \n",
       "7                                           Printers  220419  d2bwot   \n",
       "8  I drew all the boys together and i did it for ...  215149  c3p3dy   \n",
       "9                            1 dad reflex 2 children  204183  5jrlw1   \n",
       "\n",
       "                                                 url  comms_num       created  \\\n",
       "0                    http://i.imgur.com/OOFRJvr.gifv       4972  1.480988e+09   \n",
       "1  https://i.reddituploads.com/58986555f545487c9d...       6076  1.478680e+09   \n",
       "2                https://i.redd.it/5ugttvttk3a31.jpg       3607  1.563064e+09   \n",
       "3  https://www.thedailybeast.com/blizzard-employe...       9598  1.570683e+09   \n",
       "4  https://i.reddituploads.com/d1e77b5c62694624ba...       4351  1.486430e+09   \n",
       "5                https://i.redd.it/6tcarmtiwwf31.jpg       4730  1.565598e+09   \n",
       "6                https://i.redd.it/9xijbv8pvgf31.jpg       4797  1.565404e+09   \n",
       "7                https://i.redd.it/jlx9wokn7tl31.jpg       2475  1.568169e+09   \n",
       "8                https://i.redd.it/yb3996njhw531.jpg       4230  1.561235e+09   \n",
       "9                    http://i.imgur.com/Rum0zSz.gifv       5635  1.482455e+09   \n",
       "\n",
       "  body  \n",
       "0       \n",
       "1       \n",
       "2       \n",
       "3       \n",
       "4       \n",
       "5       \n",
       "6       \n",
       "7       \n",
       "8       \n",
       "9       "
      ],
      "text/html": "<div>\n<style scoped>\n    .dataframe tbody tr th:only-of-type {\n        vertical-align: middle;\n    }\n\n    .dataframe tbody tr th {\n        vertical-align: top;\n    }\n\n    .dataframe thead th {\n        text-align: right;\n    }\n</style>\n<table border=\"1\" class=\"dataframe\">\n  <thead>\n    <tr style=\"text-align: right;\">\n      <th></th>\n      <th>title</th>\n      <th>score</th>\n      <th>id</th>\n      <th>url</th>\n      <th>comms_num</th>\n      <th>created</th>\n      <th>body</th>\n    </tr>\n  </thead>\n  <tbody>\n    <tr>\n      <th>0</th>\n      <td>Guardians of the Front Page</td>\n      <td>283481</td>\n      <td>5gn8ru</td>\n      <td>http://i.imgur.com/OOFRJvr.gifv</td>\n      <td>4972</td>\n      <td>1.480988e+09</td>\n      <td></td>\n    </tr>\n    <tr>\n      <th>1</th>\n      <td>Thanks, Obama.</td>\n      <td>230836</td>\n      <td>5bx4bx</td>\n      <td>https://i.reddituploads.com/58986555f545487c9d...</td>\n      <td>6076</td>\n      <td>1.478680e+09</td>\n      <td></td>\n    </tr>\n    <tr>\n      <th>2</th>\n      <td>Take your time, you got this</td>\n      <td>268692</td>\n      <td>ccr8c8</td>\n      <td>https://i.redd.it/5ugttvttk3a31.jpg</td>\n      <td>3607</td>\n      <td>1.563064e+09</td>\n      <td></td>\n    </tr>\n    <tr>\n      <th>3</th>\n      <td>Blizzard Employees Staged a Walkout After the ...</td>\n      <td>226322</td>\n      <td>dfn3yi</td>\n      <td>https://www.thedailybeast.com/blizzard-employe...</td>\n      <td>9598</td>\n      <td>1.570683e+09</td>\n      <td></td>\n    </tr>\n    <tr>\n      <th>4</th>\n      <td>This is Shelia Fredrick, a flight attendant. S...</td>\n      <td>222815</td>\n      <td>5sfexx</td>\n      <td>https://i.reddituploads.com/d1e77b5c62694624ba...</td>\n      <td>4351</td>\n      <td>1.486430e+09</td>\n      <td></td>\n    </tr>\n    <tr>\n      <th>5</th>\n      <td>DEMOCRACY NOW</td>\n      <td>223575</td>\n      <td>cp4sce</td>\n      <td>https://i.redd.it/6tcarmtiwwf31.jpg</td>\n      <td>4730</td>\n      <td>1.565598e+09</td>\n      <td></td>\n    </tr>\n    <tr>\n      <th>6</th>\n      <td>I got a cease and desist for making the Crocs ...</td>\n      <td>207260</td>\n      <td>co6h3d</td>\n      <td>https://i.redd.it/9xijbv8pvgf31.jpg</td>\n      <td>4797</td>\n      <td>1.565404e+09</td>\n      <td></td>\n    </tr>\n    <tr>\n      <th>7</th>\n      <td>Printers</td>\n      <td>220419</td>\n      <td>d2bwot</td>\n      <td>https://i.redd.it/jlx9wokn7tl31.jpg</td>\n      <td>2475</td>\n      <td>1.568169e+09</td>\n      <td></td>\n    </tr>\n    <tr>\n      <th>8</th>\n      <td>I drew all the boys together and i did it for ...</td>\n      <td>215149</td>\n      <td>c3p3dy</td>\n      <td>https://i.redd.it/yb3996njhw531.jpg</td>\n      <td>4230</td>\n      <td>1.561235e+09</td>\n      <td></td>\n    </tr>\n    <tr>\n      <th>9</th>\n      <td>1 dad reflex 2 children</td>\n      <td>204183</td>\n      <td>5jrlw1</td>\n      <td>http://i.imgur.com/Rum0zSz.gifv</td>\n      <td>5635</td>\n      <td>1.482455e+09</td>\n      <td></td>\n    </tr>\n  </tbody>\n</table>\n</div>"
     },
     "metadata": {},
     "execution_count": 215
    }
   ],
   "source": [
    "topics_data"
   ]
  },
  {
   "cell_type": "code",
   "execution_count": null,
   "metadata": {},
   "outputs": [],
   "source": []
  }
 ]
}